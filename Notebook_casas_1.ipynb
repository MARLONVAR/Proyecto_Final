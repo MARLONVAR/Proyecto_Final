{
 "cells": [
  {
   "cell_type": "code",
   "execution_count": 15,
   "id": "65cb854e",
   "metadata": {},
   "outputs": [],
   "source": [
    "#Comando del sistema\n",
    "\n",
    "import os\n",
    "\n",
    "# Manejo de datos\n",
    "\n",
    "import pandas as pd\n",
    "import numpy as np\n",
    "\n",
    "#Librerias Machine learning\n",
    "\n",
    "#Separacion conjunto de entrenamiento y de test y busqueda de hiperparametros\n",
    "from sklearn.model_selection import train_test_split\n",
    "#Construccion de modelo de regresion lineal\n",
    "from sklearn.linear_model import LinearRegression\n",
    "#Determinar rendimiento del modelo\n",
    "from sklearn.metrics import mean_squared_error, mean_absolute_error, r2_score\n",
    "#Libreria para paramettros polinomiales\n",
    "from sklearn.preprocessing import PolynomialFeatures\n"
   ]
  },
  {
   "cell_type": "code",
   "execution_count": 2,
   "id": "f8a68b60",
   "metadata": {},
   "outputs": [],
   "source": [
    "#Importacion de los datos\n",
    "\n",
    "data = pd.read_csv('kc_house_data.csv', sep = ',')"
   ]
  },
  {
   "cell_type": "code",
   "execution_count": 3,
   "id": "8ead1d93",
   "metadata": {},
   "outputs": [
    {
     "data": {
      "text/html": [
       "<div>\n",
       "<style scoped>\n",
       "    .dataframe tbody tr th:only-of-type {\n",
       "        vertical-align: middle;\n",
       "    }\n",
       "\n",
       "    .dataframe tbody tr th {\n",
       "        vertical-align: top;\n",
       "    }\n",
       "\n",
       "    .dataframe thead th {\n",
       "        text-align: right;\n",
       "    }\n",
       "</style>\n",
       "<table border=\"1\" class=\"dataframe\">\n",
       "  <thead>\n",
       "    <tr style=\"text-align: right;\">\n",
       "      <th></th>\n",
       "      <th>price</th>\n",
       "      <th>bedrooms</th>\n",
       "      <th>bathrooms</th>\n",
       "      <th>sqft_living</th>\n",
       "      <th>waterfront</th>\n",
       "      <th>view</th>\n",
       "      <th>condition</th>\n",
       "      <th>grade</th>\n",
       "      <th>yr_renovated_dummy</th>\n",
       "      <th>house_age</th>\n",
       "    </tr>\n",
       "  </thead>\n",
       "  <tbody>\n",
       "    <tr>\n",
       "      <th>0</th>\n",
       "      <td>221900.0</td>\n",
       "      <td>3</td>\n",
       "      <td>1.00</td>\n",
       "      <td>1180</td>\n",
       "      <td>0</td>\n",
       "      <td>0</td>\n",
       "      <td>3</td>\n",
       "      <td>7</td>\n",
       "      <td>0</td>\n",
       "      <td>67</td>\n",
       "    </tr>\n",
       "    <tr>\n",
       "      <th>1</th>\n",
       "      <td>538000.0</td>\n",
       "      <td>3</td>\n",
       "      <td>2.25</td>\n",
       "      <td>2570</td>\n",
       "      <td>0</td>\n",
       "      <td>0</td>\n",
       "      <td>3</td>\n",
       "      <td>7</td>\n",
       "      <td>1</td>\n",
       "      <td>71</td>\n",
       "    </tr>\n",
       "    <tr>\n",
       "      <th>2</th>\n",
       "      <td>180000.0</td>\n",
       "      <td>2</td>\n",
       "      <td>1.00</td>\n",
       "      <td>770</td>\n",
       "      <td>0</td>\n",
       "      <td>0</td>\n",
       "      <td>3</td>\n",
       "      <td>6</td>\n",
       "      <td>0</td>\n",
       "      <td>89</td>\n",
       "    </tr>\n",
       "    <tr>\n",
       "      <th>3</th>\n",
       "      <td>604000.0</td>\n",
       "      <td>4</td>\n",
       "      <td>3.00</td>\n",
       "      <td>1960</td>\n",
       "      <td>0</td>\n",
       "      <td>0</td>\n",
       "      <td>5</td>\n",
       "      <td>7</td>\n",
       "      <td>0</td>\n",
       "      <td>57</td>\n",
       "    </tr>\n",
       "    <tr>\n",
       "      <th>4</th>\n",
       "      <td>510000.0</td>\n",
       "      <td>3</td>\n",
       "      <td>2.00</td>\n",
       "      <td>1680</td>\n",
       "      <td>0</td>\n",
       "      <td>0</td>\n",
       "      <td>3</td>\n",
       "      <td>8</td>\n",
       "      <td>0</td>\n",
       "      <td>35</td>\n",
       "    </tr>\n",
       "  </tbody>\n",
       "</table>\n",
       "</div>"
      ],
      "text/plain": [
       "      price  bedrooms  bathrooms  sqft_living  waterfront  view  condition  \\\n",
       "0  221900.0         3       1.00         1180           0     0          3   \n",
       "1  538000.0         3       2.25         2570           0     0          3   \n",
       "2  180000.0         2       1.00          770           0     0          3   \n",
       "3  604000.0         4       3.00         1960           0     0          5   \n",
       "4  510000.0         3       2.00         1680           0     0          3   \n",
       "\n",
       "   grade  yr_renovated_dummy  house_age  \n",
       "0      7                   0         67  \n",
       "1      7                   1         71  \n",
       "2      6                   0         89  \n",
       "3      7                   0         57  \n",
       "4      8                   0         35  "
      ]
     },
     "execution_count": 3,
     "metadata": {},
     "output_type": "execute_result"
    }
   ],
   "source": [
    "#Limpieza y organización\n",
    "\n",
    "data['date'] = pd.to_datetime(data['date'],format = '%Y-%m-%d')\n",
    "data['data'] = pd.to_datetime(data['date'], format = '%Y').dt.year\n",
    "data.loc[data['yr_renovated'] != 0, 'yr_renovated'] = pd.to_datetime(data.loc[data['yr_renovated'] != 0, 'yr_renovated'], format = '%Y')\n",
    "\n",
    "df_t = data\n",
    "\n",
    "df_t = df_t.dropna()\n",
    "\n",
    "df_t = df_t.drop_duplicates()\n",
    "\n",
    "df_t['yr_renovated_dummy'] = data['yr_renovated'].apply(lambda x: 1 if x!=0 else 0)\n",
    "\n",
    "df_t = df_t.drop(['yr_renovated'], axis=1)\n",
    "\n",
    "df_t['house_age'] = 2022 - data['yr_built']\n",
    "\n",
    "\n",
    "columns = ['price','bedrooms', 'bathrooms', 'sqft_living','waterfront', 'view', 'condition', 'grade',\n",
    "          'yr_built', 'yr_renovated_dummy','lat','long', 'house_age']\n",
    "\n",
    "df_t = df_t[columns]\n",
    "\n",
    "df_t = df_t.drop(['yr_built'], axis = 1)\n",
    "df_t = df_t.drop(['lat'], axis = 1)\n",
    "df_t = df_t.drop(['long'], axis = 1)\n",
    "\n",
    "df_t.head(5)\n"
   ]
  },
  {
   "cell_type": "code",
   "execution_count": 4,
   "id": "20c05124",
   "metadata": {},
   "outputs": [
    {
     "data": {
      "text/html": [
       "<div>\n",
       "<style scoped>\n",
       "    .dataframe tbody tr th:only-of-type {\n",
       "        vertical-align: middle;\n",
       "    }\n",
       "\n",
       "    .dataframe tbody tr th {\n",
       "        vertical-align: top;\n",
       "    }\n",
       "\n",
       "    .dataframe thead th {\n",
       "        text-align: right;\n",
       "    }\n",
       "</style>\n",
       "<table border=\"1\" class=\"dataframe\">\n",
       "  <thead>\n",
       "    <tr style=\"text-align: right;\">\n",
       "      <th></th>\n",
       "      <th>bedrooms</th>\n",
       "      <th>bathrooms</th>\n",
       "      <th>sqft_living</th>\n",
       "      <th>waterfront</th>\n",
       "      <th>view</th>\n",
       "      <th>condition</th>\n",
       "      <th>grade</th>\n",
       "      <th>yr_renovated_dummy</th>\n",
       "      <th>house_age</th>\n",
       "    </tr>\n",
       "  </thead>\n",
       "  <tbody>\n",
       "    <tr>\n",
       "      <th>0</th>\n",
       "      <td>3</td>\n",
       "      <td>1.00</td>\n",
       "      <td>1180</td>\n",
       "      <td>0</td>\n",
       "      <td>0</td>\n",
       "      <td>3</td>\n",
       "      <td>7</td>\n",
       "      <td>0</td>\n",
       "      <td>67</td>\n",
       "    </tr>\n",
       "    <tr>\n",
       "      <th>1</th>\n",
       "      <td>3</td>\n",
       "      <td>2.25</td>\n",
       "      <td>2570</td>\n",
       "      <td>0</td>\n",
       "      <td>0</td>\n",
       "      <td>3</td>\n",
       "      <td>7</td>\n",
       "      <td>1</td>\n",
       "      <td>71</td>\n",
       "    </tr>\n",
       "    <tr>\n",
       "      <th>2</th>\n",
       "      <td>2</td>\n",
       "      <td>1.00</td>\n",
       "      <td>770</td>\n",
       "      <td>0</td>\n",
       "      <td>0</td>\n",
       "      <td>3</td>\n",
       "      <td>6</td>\n",
       "      <td>0</td>\n",
       "      <td>89</td>\n",
       "    </tr>\n",
       "    <tr>\n",
       "      <th>3</th>\n",
       "      <td>4</td>\n",
       "      <td>3.00</td>\n",
       "      <td>1960</td>\n",
       "      <td>0</td>\n",
       "      <td>0</td>\n",
       "      <td>5</td>\n",
       "      <td>7</td>\n",
       "      <td>0</td>\n",
       "      <td>57</td>\n",
       "    </tr>\n",
       "    <tr>\n",
       "      <th>4</th>\n",
       "      <td>3</td>\n",
       "      <td>2.00</td>\n",
       "      <td>1680</td>\n",
       "      <td>0</td>\n",
       "      <td>0</td>\n",
       "      <td>3</td>\n",
       "      <td>8</td>\n",
       "      <td>0</td>\n",
       "      <td>35</td>\n",
       "    </tr>\n",
       "  </tbody>\n",
       "</table>\n",
       "</div>"
      ],
      "text/plain": [
       "   bedrooms  bathrooms  sqft_living  waterfront  view  condition  grade  \\\n",
       "0         3       1.00         1180           0     0          3      7   \n",
       "1         3       2.25         2570           0     0          3      7   \n",
       "2         2       1.00          770           0     0          3      6   \n",
       "3         4       3.00         1960           0     0          5      7   \n",
       "4         3       2.00         1680           0     0          3      8   \n",
       "\n",
       "   yr_renovated_dummy  house_age  \n",
       "0                   0         67  \n",
       "1                   1         71  \n",
       "2                   0         89  \n",
       "3                   0         57  \n",
       "4                   0         35  "
      ]
     },
     "execution_count": 4,
     "metadata": {},
     "output_type": "execute_result"
    }
   ],
   "source": [
    "#Construccion del modelo\n",
    "\n",
    "Y = df_t['price']\n",
    "\n",
    "X = df_t.drop(['price'], axis = 1)\n",
    "\n",
    "X.head(5)"
   ]
  },
  {
   "cell_type": "code",
   "execution_count": 5,
   "id": "c195147b",
   "metadata": {},
   "outputs": [],
   "source": [
    "poly = PolynomialFeatures(degree = 2)\n",
    "poly_X = poly.fit_transform(X)"
   ]
  },
  {
   "cell_type": "code",
   "execution_count": 6,
   "id": "08844a92",
   "metadata": {},
   "outputs": [
    {
     "data": {
      "text/plain": [
       "(21613, 55)"
      ]
     },
     "execution_count": 6,
     "metadata": {},
     "output_type": "execute_result"
    }
   ],
   "source": [
    "poly_X.shape"
   ]
  },
  {
   "cell_type": "code",
   "execution_count": 7,
   "id": "54dd693d",
   "metadata": {},
   "outputs": [],
   "source": [
    "poly_X_train, poly_X_test, poly_Y_train, poly_Y_test = train_test_split(poly_X, Y, test_size = 0.2, random_state = 0)\n"
   ]
  },
  {
   "cell_type": "code",
   "execution_count": 8,
   "id": "0884b9a1",
   "metadata": {},
   "outputs": [],
   "source": [
    "modelo_regresion_poly = LinearRegression().fit(poly_X_train, poly_Y_train)"
   ]
  },
  {
   "cell_type": "code",
   "execution_count": 9,
   "id": "7222db03",
   "metadata": {},
   "outputs": [
    {
     "name": "stdout",
     "output_type": "stream",
     "text": [
      "RMSE: 194446.48\n",
      "MSE: 37809432099.38\n",
      "MAE: 129149.50\n",
      "R^2: 0.72\n"
     ]
    },
    {
     "data": {
      "text/plain": [
       "(21613, 55)"
      ]
     },
     "execution_count": 9,
     "metadata": {},
     "output_type": "execute_result"
    }
   ],
   "source": [
    "Y_pred2 = modelo_regresion_poly.predict(poly_X)\n",
    "\n",
    "#Resultados de las métricas a partir de la predicción \n",
    "print(\"RMSE: %.2f\" % mean_squared_error(Y, Y_pred2, squared = False))\n",
    "\n",
    "print(\"MSE: %.2f\" % mean_squared_error(Y, Y_pred2, squared =True))\n",
    "\n",
    "print(\"MAE: %.2f\" % mean_absolute_error(Y, Y_pred2))\n",
    "\n",
    "R2 = r2_score(Y, Y_pred2)\n",
    "\n",
    "print(\"R^2: %.2f\" % R2 )\n",
    "\n",
    "poly_X.shape"
   ]
  },
  {
   "cell_type": "code",
   "execution_count": 19,
   "id": "6b667fc3",
   "metadata": {},
   "outputs": [
    {
     "name": "stdout",
     "output_type": "stream",
     "text": [
      "El precio estimado de la vivienda es: 507750.43 $$$\n"
     ]
    }
   ],
   "source": [
    "#Funcionamiento del Machine Learning\n",
    "\n",
    "\n",
    "\n",
    "Caracteristicas = pd.DataFrame({'bedrooms': [2], 'bathrroms': [2], 'sqft_living': [2500], 'waterfront': [0], 'view': [0], 'condition': [5], 'grade': [7], 'yr_renovated_dummy': [0], 'property_age': [50]})\n",
    "poly = PolynomialFeatures(degree = 2)\n",
    "caracteristicas_polynomial = poly.fit_transform(Caracteristicas)\n",
    "\n",
    "\n",
    "Precio_prediccion = modelo_regresion_poly.predict(caracteristicas_polynomial)\n",
    "\n",
    "\n",
    "\n",
    "print(\"El precio estimado de la vivienda es: %.2f $$$\" % Precio_prediccion)"
   ]
  },
  {
   "cell_type": "code",
   "execution_count": null,
   "id": "10dd9f79",
   "metadata": {},
   "outputs": [],
   "source": []
  },
  {
   "cell_type": "code",
   "execution_count": null,
   "id": "c4ab5663",
   "metadata": {},
   "outputs": [],
   "source": []
  }
 ],
 "metadata": {
  "kernelspec": {
   "display_name": "Python 3 (ipykernel)",
   "language": "python",
   "name": "python3"
  },
  "language_info": {
   "codemirror_mode": {
    "name": "ipython",
    "version": 3
   },
   "file_extension": ".py",
   "mimetype": "text/x-python",
   "name": "python",
   "nbconvert_exporter": "python",
   "pygments_lexer": "ipython3",
   "version": "3.9.7"
  }
 },
 "nbformat": 4,
 "nbformat_minor": 5
}
